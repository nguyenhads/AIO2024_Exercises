{
 "cells": [
  {
   "cell_type": "markdown",
   "metadata": {},
   "source": [
    "# Q&A"
   ]
  },
  {
   "cell_type": "markdown",
   "metadata": {},
   "source": [
    "## Q1"
   ]
  },
  {
   "cell_type": "code",
   "execution_count": 5,
   "metadata": {},
   "outputs": [
    {
     "name": "stdout",
     "output_type": "stream",
     "text": [
      "[5, 5, 5, 5, 10, 12, 33, 33]\n"
     ]
    }
   ],
   "source": [
    "# Simple sliding window inside a list\n",
    "def max_kernel(num_list: list, k: int) -> int:\n",
    "    \"\"\"Finding the maximum of sliding window with size k in a list.\"\"\"\n",
    "\n",
    "    res = []\n",
    "    for i in range(len(num_list)-k+1):\n",
    "        res.append(max(num_list[i:i + k]))\n",
    "\n",
    "    return res\n",
    "\n",
    "assert max_kernel([3 , 4 , 5 , 1 , -44], 3) == [5, 5, 5]\n",
    "\n",
    "num_list = [3, 4, 5, 1, -44 , 5 ,10, 12 ,33, 1]\n",
    "k=3\n",
    "\n",
    "print(max_kernel(num_list , k))"
   ]
  },
  {
   "cell_type": "markdown",
   "metadata": {},
   "source": [
    "## Q2"
   ]
  },
  {
   "cell_type": "code",
   "execution_count": 6,
   "metadata": {},
   "outputs": [
    {
     "name": "stdout",
     "output_type": "stream",
     "text": [
      "{'s': 2, 'm': 1, 'i': 1, 'l': 1, 'e': 1}\n"
     ]
    }
   ],
   "source": [
    "# Write a function to output a dictionary\n",
    "# in which key is a char and value is a counting number of char\n",
    "def character_count(string: str) -> dict:\n",
    "    \"\"\"Count number of chars.\"\"\"\n",
    "    if not isinstance(string, str):\n",
    "        raise TypeError(\"string must be a string type.\")\n",
    "\n",
    "    m = {}\n",
    "    for char in string:\n",
    "        if char not in m.keys():\n",
    "            m[char] = 1\n",
    "        else:\n",
    "            m[char] += 1\n",
    "\n",
    "    return m\n",
    "\n",
    "\n",
    "assert character_count(\"Baby\") == {\"B\": 1, \"a\": 1, \"b\": 1, \"y\": 1}\n",
    "print(character_count(\"smiles\"))\n"
   ]
  },
  {
   "cell_type": "markdown",
   "metadata": {},
   "source": [
    "## Q3"
   ]
  },
  {
   "cell_type": "code",
   "execution_count": 8,
   "metadata": {},
   "outputs": [
    {
     "name": "stdout",
     "output_type": "stream",
     "text": [
      "{'he': 1, 'who': 3, 'conquers': 1, 'himself': 1, 'is': 3, 'the': 5, 'mightiest': 1, 'warrior': 1, 'try': 2, 'not': 1, 'to': 3, 'become': 2, 'a': 7, 'man': 6, 'of': 4, 'success': 3, 'but': 1, 'rather': 1, 'value': 1, 'one': 4, 'with': 4, 'courage': 1, 'makes': 1, 'majority': 1, 'secret': 1, 'in': 4, 'life': 2, 'for': 3, 'be': 1, 'ready': 1, 'his': 2, 'opportunity': 1, 'when': 2, 'it': 2, 'comes': 2, 'successful': 2, 'will': 2, 'profit': 1, 'from': 1, 'mistakes': 1, 'and': 1, 'again': 1, 'different': 1, 'way': 1, 'can': 3, 'lay': 1, 'firm': 1, 'foundation': 1, 'bricks': 1, 'others': 1, 'have': 1, 'thrown': 1, 'at': 1, 'him': 1, 'usually': 1, 'those': 1, 'are': 1, 'too': 1, 'busy': 1, 'looking': 1, 'we': 3, 'cannot': 1, 'solve': 1, 'problems': 1, 'kind': 1, 'thinking': 1, 'employed': 1, 'came': 1, 'up': 1, 'them': 1, 'just': 2, 'small': 1, 'positive': 1, 'thought': 1, 'morning': 1, 'change': 1, 'your': 1, 'whole': 1, 'day': 1, 'you': 3, 'get': 2, 'everything': 1, 'want': 2, 'if': 1, 'help': 1, 'enough': 1, 'other': 1, 'people': 1, 'what': 1, 'they': 1}\n",
      "6\n"
     ]
    }
   ],
   "source": [
    "from pathlib import Path\n",
    "from typing import Dict, Union\n",
    "\n",
    "\n",
    "def word_count(file_path: Union[Path, str]) -> Dict[str, int]:\n",
    "\n",
    "    res = {}\n",
    "    with open(file_path, 'r') as f:\n",
    "        for sentence in f.readlines():\n",
    "            cleaned_sentence = sentence.strip().replace('\\n', '')\n",
    "            for word in cleaned_sentence.split(' '):\n",
    "                key = word.lower()\n",
    "                if key not in res.keys():\n",
    "                    res[key] = 1\n",
    "                else:\n",
    "                    res[key] += 1\n",
    "\n",
    "    return res\n",
    "\n",
    "file_path = \"./P1_data.txt\"\n",
    "result = word_count(file_path)\n",
    "print(result)\n",
    "\n",
    "assert result[\"who\"] == 3\n",
    "print(result[\"man\"])"
   ]
  },
  {
   "cell_type": "markdown",
   "metadata": {},
   "source": [
    "## Q4"
   ]
  },
  {
   "cell_type": "code",
   "execution_count": 9,
   "metadata": {},
   "outputs": [
    {
     "name": "stdout",
     "output_type": "stream",
     "text": [
      "2\n"
     ]
    }
   ],
   "source": [
    "# Find the minumun distance to transform S string to T string\n",
    "# This is known as Levenshtein distance\n",
    "def levenshtein_distance(s: str, t: str) -> int:\n",
    "    m, n = len(s), len(t)\n",
    "\n",
    "    D = [[0] * (n + 1) for _ in range(m + 1)]\n",
    "\n",
    "    for i in range(m + 1):\n",
    "        D[i][0] = i\n",
    "    for j in range(n + 1):\n",
    "        D[0][j] = j\n",
    "\n",
    "    for i in range(1, m + 1):\n",
    "        for j in range(1, n + 1):\n",
    "            if s[i - 1] == t[j - 1]:\n",
    "                D[i][j] = min(D[i - 1][j - 1], D[i][j - 1], D[i - 1][j])\n",
    "            else:\n",
    "                D[i][j] = min(D[i - 1][j - 1], D[i][j - 1], D[i - 1][j]) + 1\n",
    "\n",
    "    # print(D)\n",
    "    return D[m][n]\n",
    "\n",
    "\n",
    "assert levenshtein_distance(\"hi\", \"hello\") == 4.0\n",
    "print(levenshtein_distance(\"hola\", \"hello\"))"
   ]
  },
  {
   "cell_type": "markdown",
   "metadata": {},
   "source": [
    "## Q5"
   ]
  },
  {
   "cell_type": "code",
   "execution_count": 11,
   "metadata": {},
   "outputs": [
    {
     "name": "stdout",
     "output_type": "stream",
     "text": [
      "True\n"
     ]
    }
   ],
   "source": [
    "def check_the_number(N):\n",
    "\n",
    "    list_of_numbers = []\n",
    "    result = \"\"\n",
    "\n",
    "    for i in range(1, 5):\n",
    "    #Your code here\n",
    "    #Su dung append them i vao trong list_of_number\n",
    "        list_of_numbers.append(i)\n",
    "    if N in list_of_numbers:\n",
    "        results = \"True\"\n",
    "    if N not in list_of_numbers:\n",
    "        results = \"False\"\n",
    "\n",
    "    return results\n",
    "\n",
    "N=7\n",
    "assert check_the_number(N) == \"False\"\n",
    "\n",
    "N=2\n",
    "results = check_the_number(N)\n",
    "print(results)"
   ]
  },
  {
   "cell_type": "markdown",
   "metadata": {},
   "source": [
    "## Q6"
   ]
  },
  {
   "cell_type": "code",
   "execution_count": 12,
   "metadata": {},
   "outputs": [
    {
     "name": "stdout",
     "output_type": "stream",
     "text": [
      "[2, 2, 2, 1, 1]\n"
     ]
    }
   ],
   "source": [
    "def my_function(data, max, min):\n",
    "    result = []\n",
    "    for i in data:\n",
    "        #Your code here\n",
    "        #Neu i < min thi them min vao result\n",
    "        if i < min:\n",
    "            result.append(min)\n",
    "        elif i > max:\n",
    "            result.append(max)\n",
    "        else:\n",
    "            result.append(i)\n",
    "\n",
    "    return result\n",
    "\n",
    "my_list = [5, 2, 5, 0, 1]\n",
    "max = 1\n",
    "min = 0\n",
    "assert my_function(max = max, min = min, data = my_list) == [1, 1, 1, 0, 1]\n",
    "\n",
    "my_list = [10, 2, 5, 0, 1]\n",
    "max = 2\n",
    "min = 1\n",
    "print(my_function(max = max, min = min, data = my_list))"
   ]
  },
  {
   "cell_type": "code",
   "execution_count": null,
   "metadata": {},
   "outputs": [],
   "source": []
  },
  {
   "cell_type": "code",
   "execution_count": null,
   "metadata": {},
   "outputs": [],
   "source": []
  },
  {
   "cell_type": "code",
   "execution_count": null,
   "metadata": {},
   "outputs": [],
   "source": []
  }
 ],
 "metadata": {
  "kernelspec": {
   "display_name": "sales-forecasting2",
   "language": "python",
   "name": "python3"
  },
  "language_info": {
   "codemirror_mode": {
    "name": "ipython",
    "version": 3
   },
   "file_extension": ".py",
   "mimetype": "text/x-python",
   "name": "python",
   "nbconvert_exporter": "python",
   "pygments_lexer": "ipython3",
   "version": "3.11.3"
  }
 },
 "nbformat": 4,
 "nbformat_minor": 2
}
