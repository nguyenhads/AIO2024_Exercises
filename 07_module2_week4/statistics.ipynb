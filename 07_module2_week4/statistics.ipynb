{
 "cells": [
  {
   "cell_type": "markdown",
   "metadata": {},
   "source": [
    "# Statistics Exercises Solution"
   ]
  },
  {
   "cell_type": "markdown",
   "metadata": {},
   "source": [
    "## 1. BASIC PROBABILITY"
   ]
  },
  {
   "cell_type": "code",
   "execution_count": 1,
   "metadata": {},
   "outputs": [
    {
     "name": "stdout",
     "output_type": "stream",
     "text": [
      "Mean:  1.8\n"
     ]
    }
   ],
   "source": [
    "# Question 1\n",
    "import numpy as np\n",
    "\n",
    "def compute_mean(X):\n",
    "    s = 0\n",
    "    for x in X:\n",
    "        s += x\n",
    "    miu = s / len(X)\n",
    "    return miu\n",
    "\n",
    "X = [2, 0, 2, 2, 7, 4, -2, 5, -1, -1]\n",
    "\n",
    "assert compute_mean(X) == np.mean(X)\n",
    "print(\"Mean: \", compute_mean(X))"
   ]
  },
  {
   "cell_type": "code",
   "execution_count": 2,
   "metadata": {},
   "outputs": [
    {
     "name": "stdout",
     "output_type": "stream",
     "text": [
      "Median:  4.5\n"
     ]
    }
   ],
   "source": [
    "# Question 2\n",
    "import numpy as np\n",
    "\n",
    "def compute_median(X):\n",
    "    size = len(X)\n",
    "    X = np.sort(X)\n",
    "    # print(X)\n",
    "    if (size % 2 == 0):\n",
    "        result = (X[int(size / 2) - 1] + X[int(size / 2)]) / 2\n",
    "        return result\n",
    "    else:\n",
    "        return X[int(size / 2)]\n",
    "\n",
    "X = [1, 5, 4, 4, 9, 13]\n",
    "assert compute_median(X) == np.median(X)\n",
    "print(\"Median: \", compute_median(X))"
   ]
  },
  {
   "cell_type": "code",
   "execution_count": 3,
   "metadata": {},
   "outputs": [
    {
     "name": "stdout",
     "output_type": "stream",
     "text": [
      "8.33\n"
     ]
    }
   ],
   "source": [
    "# Question 3\n",
    "\n",
    "def compute_std(X):\n",
    "    mean = compute_mean(X)\n",
    "\n",
    "    variance = 0\n",
    "    for x in X:\n",
    "        variance += (x - mean) ** 2\n",
    "    variance /= len(X)\n",
    "\n",
    "    return np.sqrt(variance)\n",
    "\n",
    "X = [ 171, 176, 155, 167, 169, 182]\n",
    "assert compute_std(X)==np.std(X)\n",
    "print(np.round(compute_std(X),2))"
   ]
  },
  {
   "cell_type": "code",
   "execution_count": 4,
   "metadata": {},
   "outputs": [
    {
     "name": "stdout",
     "output_type": "stream",
     "text": [
      "Correlation:  0.42\n"
     ]
    }
   ],
   "source": [
    "# Question 4\n",
    "\n",
    "def compute_correlation_cofficient(X, Y):\n",
    "    N = len(X)\n",
    "    numerator = 0\n",
    "    denominator = 0\n",
    "\n",
    "    numerator = N * np.dot(X, Y) - np.sum(X)* np.sum(Y)\n",
    "    denominator = np.sqrt(N * np.sum(X*X.T) - (np.sum(X))**2) \\\n",
    "                * np.sqrt(N * np.sum(Y*Y.T) - (np.sum(Y))**2)\n",
    "\n",
    "    return np.round(numerator / denominator ,2)\n",
    "\n",
    "X = np.asarray([-2, -5, -11, 6, 4, 15, 9])\n",
    "Y = np.asarray ([4, 25, 121, 36, 16, 225, 81])\n",
    "assert compute_correlation_cofficient(X, Y) == np.round(np.corrcoef(X,Y)[0][-1], 2)\n",
    "print(\"Correlation: \", compute_correlation_cofficient(X,Y))"
   ]
  },
  {
   "cell_type": "markdown",
   "metadata": {},
   "source": [
    "## 2. TABULAR DATA ANALYSIS\n"
   ]
  },
  {
   "cell_type": "code",
   "execution_count": 5,
   "metadata": {},
   "outputs": [
    {
     "name": "stdout",
     "output_type": "stream",
     "text": [
      "Correlation between TV and Sales: 0.05\n"
     ]
    }
   ],
   "source": [
    "# Question 5\n",
    "import pandas as pd\n",
    "data = pd.read_csv(\"advertising.csv\")\n",
    "\n",
    "def correlation(x, y):\n",
    "    return np.corrcoef(x, y)[0][-1]\n",
    "\n",
    "# display(data.head())\n",
    "\n",
    "x = data[\"TV\"]\n",
    "y = data[\"Radio\"]\n",
    "\n",
    "corr_xy = correlation(x, y)\n",
    "print(f\"Correlation between TV and Sales: {np.round(corr_xy, 2)}\")"
   ]
  },
  {
   "cell_type": "code",
   "execution_count": 6,
   "metadata": {},
   "outputs": [
    {
     "name": "stdout",
     "output_type": "stream",
     "text": [
      "Correlation between TV and TV: 1.0\n",
      "Correlation between TV and Radio: 0.05\n",
      "Correlation between TV and Newspaper: 0.06\n",
      "Correlation between Radio and TV: 0.05\n",
      "Correlation between Radio and Radio: 1.0\n",
      "Correlation between Radio and Newspaper: 0.35\n",
      "Correlation between Newspaper and TV: 0.06\n",
      "Correlation between Newspaper and Radio: 0.35\n",
      "Correlation between Newspaper and Newspaper: 1.0\n"
     ]
    }
   ],
   "source": [
    "# Question 6\n",
    "\n",
    "data = pd.read_csv(\"advertising.csv\")\n",
    "\n",
    "def correlation(x, y):\n",
    "    return np.corrcoef(x, y)[0][-1]\n",
    "\n",
    "features = [\"TV\", \"Radio\", \"Newspaper\"]\n",
    "for feature_1 in features:\n",
    "    for feature_2 in features:\n",
    "        correlation_value = correlation(data[feature_1], data[feature_2])\n",
    "        print(f\"Correlation between {feature_1} and {feature_2}: {np.round(correlation_value , 2)}\")"
   ]
  },
  {
   "cell_type": "code",
   "execution_count": 7,
   "metadata": {},
   "outputs": [
    {
     "name": "stdout",
     "output_type": "stream",
     "text": [
      "[[1.         0.35410375]\n",
      " [0.35410375 1.        ]]\n"
     ]
    }
   ],
   "source": [
    "# Question 7\n",
    "\n",
    "data = pd.read_csv(\"advertising.csv\")\n",
    "x = data[\"Radio\"]\n",
    "y = data[\"Newspaper\"]\n",
    "result = np.corrcoef(x, y)\n",
    "print(result)\n"
   ]
  },
  {
   "cell_type": "code",
   "execution_count": 8,
   "metadata": {},
   "outputs": [
    {
     "data": {
      "text/html": [
       "<div>\n",
       "<style scoped>\n",
       "    .dataframe tbody tr th:only-of-type {\n",
       "        vertical-align: middle;\n",
       "    }\n",
       "\n",
       "    .dataframe tbody tr th {\n",
       "        vertical-align: top;\n",
       "    }\n",
       "\n",
       "    .dataframe thead th {\n",
       "        text-align: right;\n",
       "    }\n",
       "</style>\n",
       "<table border=\"1\" class=\"dataframe\">\n",
       "  <thead>\n",
       "    <tr style=\"text-align: right;\">\n",
       "      <th></th>\n",
       "      <th>TV</th>\n",
       "      <th>Radio</th>\n",
       "      <th>Newspaper</th>\n",
       "      <th>Sales</th>\n",
       "    </tr>\n",
       "  </thead>\n",
       "  <tbody>\n",
       "    <tr>\n",
       "      <th>TV</th>\n",
       "      <td>1.000000</td>\n",
       "      <td>0.054809</td>\n",
       "      <td>0.056648</td>\n",
       "      <td>0.901208</td>\n",
       "    </tr>\n",
       "    <tr>\n",
       "      <th>Radio</th>\n",
       "      <td>0.054809</td>\n",
       "      <td>1.000000</td>\n",
       "      <td>0.354104</td>\n",
       "      <td>0.349631</td>\n",
       "    </tr>\n",
       "    <tr>\n",
       "      <th>Newspaper</th>\n",
       "      <td>0.056648</td>\n",
       "      <td>0.354104</td>\n",
       "      <td>1.000000</td>\n",
       "      <td>0.157960</td>\n",
       "    </tr>\n",
       "    <tr>\n",
       "      <th>Sales</th>\n",
       "      <td>0.901208</td>\n",
       "      <td>0.349631</td>\n",
       "      <td>0.157960</td>\n",
       "      <td>1.000000</td>\n",
       "    </tr>\n",
       "  </tbody>\n",
       "</table>\n",
       "</div>"
      ],
      "text/plain": [
       "                 TV     Radio  Newspaper     Sales\n",
       "TV         1.000000  0.054809   0.056648  0.901208\n",
       "Radio      0.054809  1.000000   0.354104  0.349631\n",
       "Newspaper  0.056648  0.354104   1.000000  0.157960\n",
       "Sales      0.901208  0.349631   0.157960  1.000000"
      ]
     },
     "execution_count": 8,
     "metadata": {},
     "output_type": "execute_result"
    }
   ],
   "source": [
    "# Question 8\n",
    "data_corr_coef = data.corr()\n",
    "data_corr_coef"
   ]
  },
  {
   "cell_type": "code",
   "execution_count": 9,
   "metadata": {},
   "outputs": [
    {
     "data": {
      "text/plain": [
       "np.float64(25.0)"
      ]
     },
     "execution_count": 9,
     "metadata": {},
     "output_type": "execute_result"
    }
   ],
   "source": [
    "np.median([24, 25, 25, 29, 32])"
   ]
  },
  {
   "cell_type": "code",
   "execution_count": 10,
   "metadata": {},
   "outputs": [
    {
     "data": {
      "image/png": "[encoded data removed]",
      "text/plain": [
       "<Figure size 800x800 with 2 Axes>"
      ]
     },
     "metadata": {},
     "output_type": "display_data"
    }
   ],
   "source": [
    "# Question 9\n",
    "import matplotlib.pyplot as plt\n",
    "import seaborn as sns\n",
    "\n",
    "plt.figure(figsize=(8,8))\n",
    "sns.heatmap(data_corr_coef, annot=True, fmt=\".2f\", linewidth=.5)\n",
    "plt.show()"
   ]
  },
  {
   "cell_type": "markdown",
   "metadata": {},
   "source": [
    "## 3. TEXT RETRIEVAL"
   ]
  },
  {
   "cell_type": "code",
   "execution_count": 11,
   "metadata": {},
   "outputs": [],
   "source": [
    "import pandas as pd\n",
    "import numpy as np\n",
    "from sklearn.metrics.pairwise import cosine_similarity\n",
    "from sklearn.feature_extraction.text import TfidfVectorizer"
   ]
  },
  {
   "cell_type": "code",
   "execution_count": 12,
   "metadata": {},
   "outputs": [
    {
     "data": {
      "text/plain": [
       "np.float64(0.31126580760710637)"
      ]
     },
     "execution_count": 12,
     "metadata": {},
     "output_type": "execute_result"
    }
   ],
   "source": [
    "# Question 10\n",
    "\n",
    "vi_data_df = pd.read_csv(\"./vi_text_retrieval.csv\")\n",
    "context = vi_data_df[\"text\"]\n",
    "context = [doc.lower() for doc in context]\n",
    "\n",
    "tfidf_vectorizer = TfidfVectorizer()\n",
    "context_embedded = tfidf_vectorizer.fit_transform(context)\n",
    "# print(context_embedded.shape)\n",
    "\n",
    "context_embedded.toarray()[7][0]"
   ]
  },
  {
   "cell_type": "code",
   "execution_count": 13,
   "metadata": {},
   "outputs": [],
   "source": [
    "# tfidf_vectorizer.vocabulary_"
   ]
  },
  {
   "cell_type": "code",
   "execution_count": 14,
   "metadata": {},
   "outputs": [
    {
     "name": "stdout",
     "output_type": "stream",
     "text": [
      "Question:  Quang Hải giành được chức vô địch U21 quốc gia năm bao nhiêu tuổi\n",
      "0.6279910475266972\n",
      "==================================================================== \n",
      "\n",
      "Id:  0\n",
      "Score:  0.6279910475266972\n",
      "Năm 2013 , Nguyễn Quang Hải giành chức vô địch U21 quốc gia 2013 cùng với đội trẻ Hà Nội T&T và tạo nên cú sốc khi trở thành cầu thủ 16 tuổi đầu tiên giành được danh hiệu vô địch U21 quốc gia .\n",
      "=======\n",
      "Id:  97\n",
      "Score:  0.21145795862251632\n",
      "Bao Công huý là Bao Chửng ( chữ Hán : 包拯 ; 11 tháng 4 năm 999 - 20 tháng 5 năm 1062 ) , tự Hy Nhân . Ngoài ra , ông còn được gọi là Bao Thanh thiên , Bao Đãi chế , Bao Hắc tử , Bao Học sĩ hay Bao Long Đồ .\n",
      "=======\n",
      "Id:  136\n",
      "Score:  0.17714753149794468\n",
      "Arsenal đã giành được 13 chức vô địch quốc gia , 13 Cúp FA ( kỷ lục ) , 2 Cúp Liên đoàn Anh , 1 Cúp Liên đoàn Thế kỷ , 15 Siêu cúp Anh , 1 Cúp UEFA và 1 Cúp Inter-Cities Fairs . Arsenal là câu lạc bộ có số trận thắng ở cấp cao nhất nhiều thứ hai trong lịch sử bóng đá Anh , và cũng là đội bóng Anh duy nhất cho đến nay vô địch quốc gia với thành tích bất bại qua 38 vòng đấu , nhận biệt danh The Invincibles ( tiếng Việt : \" Đội bóng bất bại \" ) và giành Cúp vàng Ngoại hạng Anh .\n",
      "=======\n",
      "Id:  384\n",
      "Score:  0.15971218395887335\n",
      "Tây Ban Nha cũng là đội vô địch World Cup đầu tiên giữ được sạch lưới tại vòng đấu loại trực tiếp .\n",
      "=======\n",
      "Id:  118\n",
      "Score:  0.1578067474650028\n",
      "Tuyên Quang là một tỉnh thuộc vùng Đông Bắc Việt Nam . Có tỉnh lỵ là Thành phố Tuyên Quang .\n",
      "=======\n"
     ]
    }
   ],
   "source": [
    "# Question 11\n",
    "def tfidf_search(question, tfidf_vectorizer, top_d=5):\n",
    "    query_embedded = tfidf_vectorizer.transform([question.lower()])\n",
    "    cosine_scores = cosine_similarity(context_embedded, query_embedded).reshape((-1,))\n",
    "    results = []\n",
    "    for idx in cosine_scores.argsort()[-top_d:][::-1]:\n",
    "        doc = {\n",
    "            'id': idx,\n",
    "            'cosine_score':cosine_scores[idx]\n",
    "        }\n",
    "        results.append(doc)\n",
    "    return results\n",
    "\n",
    "\n",
    "question = vi_data_df.iloc[0]['question']\n",
    "print(\"Question: \", question)\n",
    "results = tfidf_search(question, tfidf_vectorizer)\n",
    "print(results[0][\"cosine_score\"])\n",
    "print(\"=\"* 68, \"\\n\")\n",
    "\n",
    "for result in results:\n",
    "    print(\"Id: \", result['id'])\n",
    "    print(\"Score: \", result['cosine_score'])\n",
    "    print(vi_data_df.iloc[result['id'], 2])\n",
    "    print(\"=======\")"
   ]
  },
  {
   "cell_type": "code",
   "execution_count": 15,
   "metadata": {},
   "outputs": [
    {
     "name": "stdout",
     "output_type": "stream",
     "text": [
      "Question:  Quang Hải giành được chức vô địch U21 quốc gia năm bao nhiêu tuổi\n",
      "0.20734246471976162\n",
      "==================================================================== \n",
      "\n",
      "Id:  0\n",
      "Score:  0.6259599752568777\n",
      "Năm 2013 , Nguyễn Quang Hải giành chức vô địch U21 quốc gia 2013 cùng với đội trẻ Hà Nội T&T và tạo nên cú sốc khi trở thành cầu thủ 16 tuổi đầu tiên giành được danh hiệu vô địch U21 quốc gia .\n",
      "=======\n",
      "Id:  97\n",
      "Score:  0.20734246471976162\n",
      "Bao Công huý là Bao Chửng ( chữ Hán : 包拯 ; 11 tháng 4 năm 999 - 20 tháng 5 năm 1062 ) , tự Hy Nhân . Ngoài ra , ông còn được gọi là Bao Thanh thiên , Bao Đãi chế , Bao Hắc tử , Bao Học sĩ hay Bao Long Đồ .\n",
      "=======\n",
      "Id:  136\n",
      "Score:  0.17124615520165778\n",
      "Arsenal đã giành được 13 chức vô địch quốc gia , 13 Cúp FA ( kỷ lục ) , 2 Cúp Liên đoàn Anh , 1 Cúp Liên đoàn Thế kỷ , 15 Siêu cúp Anh , 1 Cúp UEFA và 1 Cúp Inter-Cities Fairs . Arsenal là câu lạc bộ có số trận thắng ở cấp cao nhất nhiều thứ hai trong lịch sử bóng đá Anh , và cũng là đội bóng Anh duy nhất cho đến nay vô địch quốc gia với thành tích bất bại qua 38 vòng đấu , nhận biệt danh The Invincibles ( tiếng Việt : \" Đội bóng bất bại \" ) và giành Cúp vàng Ngoại hạng Anh .\n",
      "=======\n",
      "Id:  384\n",
      "Score:  0.155203460546997\n",
      "Tây Ban Nha cũng là đội vô địch World Cup đầu tiên giữ được sạch lưới tại vòng đấu loại trực tiếp .\n",
      "=======\n",
      "Id:  118\n",
      "Score:  0.15444531996663513\n",
      "Tuyên Quang là một tỉnh thuộc vùng Đông Bắc Việt Nam . Có tỉnh lỵ là Thành phố Tuyên Quang .\n",
      "=======\n"
     ]
    }
   ],
   "source": [
    "# Question 12\n",
    "\n",
    "def corr_search(question, tfidf_vectorizer, top_d=5):\n",
    "    query_embedded = tfidf_vectorizer.transform([question.lower()])\n",
    "    corr_scores = np.corrcoef(\n",
    "        query_embedded.toarray()[0],\n",
    "        context_embedded.toarray()\n",
    "    )\n",
    "    corr_scores = corr_scores[0][1:]\n",
    "    results = []\n",
    "    for idx in corr_scores.argsort()[-top_d:][::-1]:\n",
    "        doc = {\n",
    "            'id': idx,\n",
    "            'corr_score':corr_scores[idx]\n",
    "        }\n",
    "        results.append(doc)\n",
    "    return results\n",
    "\n",
    "question = vi_data_df.iloc[0]['question']\n",
    "print(\"Question: \", question)\n",
    "results = corr_search(question, tfidf_vectorizer)\n",
    "print(results[1][\"corr_score\"])\n",
    "print(\"=\"*68, \"\\n\")\n",
    "\n",
    "for result in results:\n",
    "    print(\"Id: \", result['id'])\n",
    "    print(\"Score: \", result['corr_score'])\n",
    "    print(vi_data_df.iloc[result['id'], 2])\n",
    "    print(\"=======\")"
   ]
  },
  {
   "cell_type": "code",
   "execution_count": null,
   "metadata": {},
   "outputs": [],
   "source": []
  },
  {
   "cell_type": "code",
   "execution_count": null,
   "metadata": {},
   "outputs": [],
   "source": []
  },
  {
   "cell_type": "code",
   "execution_count": null,
   "metadata": {},
   "outputs": [],
   "source": []
  },
  {
   "cell_type": "code",
   "execution_count": null,
   "metadata": {},
   "outputs": [],
   "source": []
  },
  {
   "cell_type": "code",
   "execution_count": null,
   "metadata": {},
   "outputs": [],
   "source": []
  },
  {
   "cell_type": "code",
   "execution_count": null,
   "metadata": {},
   "outputs": [],
   "source": []
  }
 ],
 "metadata": {
  "kernelspec": {
   "display_name": "base",
   "language": "python",
   "name": "python3"
  },
  "language_info": {
   "codemirror_mode": {
    "name": "ipython",
    "version": 3
   },
   "file_extension": ".py",
   "mimetype": "text/x-python",
   "name": "python",
   "nbconvert_exporter": "python",
   "pygments_lexer": "ipython3",
   "version": "3.9.19"
  }
 },
 "nbformat": 4,
 "nbformat_minor": 2
}
